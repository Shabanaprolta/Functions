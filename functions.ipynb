{
  "nbformat": 4,
  "nbformat_minor": 0,
  "metadata": {
    "colab": {
      "provenance": [],
      "toc_visible": true
    },
    "kernelspec": {
      "name": "python3",
      "display_name": "Python 3"
    },
    "language_info": {
      "name": "python"
    }
  },
  "cells": [
    {
      "cell_type": "markdown",
      "source": [
        "# **Theory** **Questions**\n",
        "\n",
        "#1. What is the difference between a function and a method in Python?\n",
        "-> In Python , methods and fuctions have similar purposes bu differ in important ways. Functions are independent blocks of code that can be called from anywhere,while methods are tied to objects or classes and need an object or class instance to be invoked.\n",
        "Functions promote code reuseability, while methods offer behaviour specific to objects. Functions are called by name, while methods are accessed using dot notation.\n",
        "\n",
        "Example of function -\n",
        "def factorial (n):\n",
        "    return 1 if (n==1 or n==o)else n*\n",
        "factorial(n-1):\n",
        "####enter input\n",
        "n=int(input(\"Enter input number:\"))\n",
        "print (\"The factorial of \",n,\"is\",factorial(n))\n",
        "\n",
        "Example of method -\n",
        "class Employee(object):\n",
        "  def my_method(self):\n",
        "    print(\"i am Vikram\")\n",
        "name = employee()\n",
        "name.my_method()\n",
        "\n",
        "# 2. Explain the concept of function arguements and parameters on Python.\n",
        "-> In python, functions are reuseable blocks of code that perform specific tasks. when defining a function , one might specify input values that the function will operate on. these inputs are referred to as parameters. When a function is called, the actual values passed to it are called arguements.Example-\n",
        "\n",
        "def add(x,y):  # x and y are parameters    \n",
        "\n",
        "  \"\"\" This function adds two numbers. \"\"\"\n",
        "\n",
        "  result = x + y\n",
        "\n",
        "  return result\n",
        "\n",
        "sum_result = add(5,3) # 5 and 3 are arguements\n",
        "\n",
        "print(sum_result) # Output: 8\n",
        "\n",
        "sum_result_keyword = add(y=3, x=5)  # 5 and 3 are arguements passed as keyword arguements\n",
        "\n",
        "print(sum_result_keyword) # Output : 8\n",
        "\n",
        "#3. What are the  different ways to define and call a function in Python?\n",
        "-> Here are the common ways to define and call functions in Python:\n",
        "- Standard function : this is the most common way to define a function. Example -\n",
        "\n",
        "def greet (name):\n",
        "   \"\"\"This function greets the person passed in as a parameter.\"\"\"\n",
        "\n",
        "print (f\"Hello, {name}!\") #calling the function\n",
        "\n",
        "greet (\"Alice\") #Output : Hello, Alice!\n",
        "\n",
        "- Function with Variable Length Arguements\n",
        "  - Args(Arbitary Positional Arguements) -\n",
        "  This allows a function to accept any number of positional arguements . These arguements are collected into a tuple. Example-\n",
        "\n",
        "    def add_numbers (*args):\n",
        "\n",
        "      \"\"\"This function adds all the numbers passed as arguements.\"\"\"\n",
        "\n",
        "      total = 0\n",
        "\n",
        "      for num in args:\n",
        "          \n",
        "           total += num\n",
        "\n",
        "      return total  #calling the function\n",
        "\n",
        "      result = add_numbers (1,2,3,4,5)\n",
        "\n",
        "      print(result) #Output : 15\n",
        "\n",
        "      - Kwargs (Arbitary Keyword Arguements) -\n",
        "      This allows a function to accept any number of keyword arguements. These arguments are collected into a dictionary.\n",
        "      \n",
        "      def print_info (**kwargs):\n",
        "          \"\"\"This function prints key-value pairs passed as arguments.\"\"\"\n",
        "\n",
        "          for key, value in kwargs.items():\n",
        "                print (f\"{key} : {value}\")\n",
        "      print_info(name = \"Bob\" , age = 30 , city = newyork\") #calling the function\n",
        "\n",
        "      #Output:\n",
        "\n",
        "      #name : Bob\n",
        "\n",
        "      #age  : 30\n",
        "\n",
        "      #city : newyork\n",
        "\n",
        "- Lambda functions -\n",
        "These are small, anonymous functions defined using the lambda keyword.They can take any number of arguements but can only have one expression .\n",
        "####Defining a lambda function\n",
        "    multiply = lambda x,y: x*y\n",
        "\n",
        "    result = multiply (5,6)\n",
        "\n",
        "    print(result)  # Output : 30\n",
        "\n",
        "- Calling functions\n",
        "Functions are called by writing their name followed by paranthesis. If the function takes arguements, these are passed inside the parantheses.\n",
        "\n",
        "  def example_function(a,b)\n",
        "\n",
        "     return a+b\n",
        "   \n",
        "   result = example_functions(3,5) #calling the function with arguements 3 and 5\n",
        "\n",
        "   print(result) #output 8\n",
        "\n",
        "   result =example_function(a=3, b=5) # calling the function with keyword arguments\n",
        "\n",
        "   print(result) #output 8\n",
        "\n",
        "   - Built-in Functions\n",
        "   Python provides a wide range of built-in functions that are readily available for use , such as print(), len(),max(),min() etc. Example-\n",
        "\n",
        "   numbers = [1,5,2,8,3]\n",
        "\n",
        "   maximum = max(numbers) #calling the built-in max() function\n",
        "\n",
        "   print (maximum)  # Output : 8\n",
        "    \n",
        "#4. what is the purpose of the return statement in a Python functions ?\n",
        "->  The return statement allows a function to send a value back to the caller. This value can be of any data type , including numbers , strings, lists , dictionaries , or even other functions. If a retuen statement is not explicitly used, the function will implicity return None.\n",
        "\n",
        "def add (x,y):\n",
        "\n",
        "    return x + y\n",
        "\n",
        " result = add ( 5, 3 ) #result will be 8.\n",
        "\n",
        "#5. What are iterators in Python and how do they differ from iterables ?\n",
        "-> In Python , an iterator is an object that provides a way to iterate through a sequence of values one at a time, while an iterable is an object that can be looped over using a \"for\" loop, meaning it can produce an iterator when needed ; essentially , every iterator is an iterable, but not every iterable is an iterator ; iterators manage the internal state of the iteration process, keeping track of which element is next to be returned, while iterables simply define the collection of data that can be iterated over.\n",
        "Examples-\n",
        " - Iterable: A list , tuple , string , dictionary, or set.\n",
        " - Creating an iterator :\n",
        "   \n",
        "   my_list = [1, 2, 3]\n",
        "\n",
        "   my_iterator = iter(my_list) [2, 5 , 10]\n",
        "\n",
        " - How to use iterators :\n",
        "    - next() function : To get the next element from an iterator , use the next () function.\n",
        "    - For loop : When you use a \"for\" loop on an iterable , Python automatically creates an iterator and calls next () on it repeadtly until it raises a StopIteration.\n",
        "\n",
        "#6. Explain the concept of generators in Python and how they are defined.\n",
        "-> A generator in Python is a special type of function that generates a sequence of values, one at a time , on demand . They are a powerful tool for working with large datasets or infinite sequences , as they don't require storing all the values in memory simultaneously . Instead, they produce values as they are needed , which can significantly improve performance and reduce memory consumption.\n",
        "- Generator Functions: These are functions that use the yield keyword instead of return . When a generator function is called it doesn't execute the function body immediately. Instead , it returns a generator object , which is an iterator.Example:\n",
        "\n",
        "def my_generator(n):\n",
        "\n",
        "     i = 0\n",
        "\n",
        "     while i<n:\n",
        "\n",
        "        yield i\n",
        "\n",
        "        i += 1\n",
        "\n",
        "gen = my_generator(5) #create a generator object\n",
        "\n",
        "for value in gen:\n",
        "\n",
        "     print (value)  \n",
        "###Output :\n",
        "#1\n",
        "#2\n",
        "#3\n",
        "#4\n",
        "\n",
        "When the yield keyword is encountered , the function's state is saved , and the value is sent back to the caller. The function then pauses execution until the next value is requested.\n",
        "\n",
        "#7. What are the advantages of using generators over regular functions?\n",
        "-> The primary advantage of using a generator over a regular function is its ability to produce values one at a time , on demand , which significantly improves memory efficiency , especialy when dealing with large datasets , and allows for the creation of infinite sequences by pausing and resuming execution using the \"yield\" keyword; making it ideal for lazy evaluation scenarios where you don't need the entire sequences at once. Example-\n",
        "- Generator Function Approach:\n",
        "\n",
        "def process_file_generator(filename):\n",
        "\n",
        "    with open(filename, 'r') as f :  \n",
        "\n",
        "        for line in f :    \n",
        "\n",
        "           yield process_line(line)\n",
        "\n",
        "def process_line(line):\n",
        "\n",
        "    #process the line\n",
        "\n",
        "    return line.strip()\n",
        "\n",
        "\n",
        "#8. What is a lambda function in Python and when is it typically used?\n",
        "-> In Python , a lambda function is a small, anonymous function that's used for simple operations and calculations:\n",
        "- When to use\n",
        " Lambda functions are typically used for short, one - time operations where a full function definition would be overkill. They are ideal for straightforward operations that can be written in a single line, such as simple mathematical calculations or basic data transformations.\n",
        "- Examples\n",
        "For example, you can use a lambda function to double a number like this :\n",
        "double  = lambda x : x*2.\n",
        "You can then call the lambda function and print the results like this :\n",
        "result = double (5) ;\n",
        "print (result).\n",
        "\n",
        "#9. Explain the purpose of usage of the map() function in Python.\n",
        "-> The map() function in Python serves the purpose of applying a given function to each item of an iterable (like a list, tuple, or set) and returns an iterator that yields the results , It streamlines the process of performing the same operation on multiple items, often making code more concise and readable compared to using explicit loops. Example-\n",
        "\n",
        "def square (x):\n",
        "\n",
        "    return x * x\n",
        "\n",
        "numbers = [1, 2, 3, 4, 5]\n",
        "\n",
        "squared_numbers = map (square , numbers)\n",
        "\n",
        "print (list(squared_numbers)) # Output: [1, 4, 9, 16, 25]\n",
        "\n",
        "#10. What is the difference between map(),reduce(),and filter() functions in Python?\n",
        "-> The map() ,filter(), and reduce() functions are built -in higher - order functions in Python that operate on iterables (like lists , tuples , etc.). They each serve distinct purposes :    \n",
        " - Map\n",
        " The map()function applies a given function to each item in an iterable and returns an iterator that yields the results.Example-\n",
        "\n",
        " numbers = [ 1, 2, 3, 4 ]\n",
        "\n",
        " squared_numbers = map ( lambda x: x**2, numbers )\n",
        "\n",
        " print (list(squared_numbers)) # Output : [1, 4, 9, 16]\n",
        "\n",
        " - Reduce()\n",
        " The reduce () function ,found in the funtools module, applies a function cumulatively to the items of an iterable, from left to right, to reduce the iterable to a single value.Example -\n",
        "\n",
        " def add(x,y):\n",
        "\n",
        "     return  x + y\n",
        "\n",
        " numbers = [ 1, 2, 3, 4, 5]\n",
        "\n",
        " sum_of_numbers = reduce (add, numbers)\n",
        "\n",
        " print(sum_of_numbers) #Output : 15\n",
        "\n",
        " - Filter ()\n",
        " The filter () function constructs an iterator from elements of an iterable for which a function returns true. Example -\n",
        "\n",
        " from funtools import reduce\n",
        "\n",
        " def add (x , y) :\n",
        "    \n",
        "      return x + y\n",
        "\n",
        " numbers  = [ 1, 2, 3, 4, 5]\n",
        "\n",
        " sum_of_numbers = reduce (add , numbers)\n",
        "\n",
        " print (list(even_numbers ))  #Output : [2, 4, 6]\n",
        "\n",
        "\n",
        "\n",
        "#11. Using pen & Paper write the internal mechanism for sum operation using reduce functions on this given list : [47,11,42,13];\n",
        "\n"
      ],
      "metadata": {
        "id": "wPjm0VIb8CEq"
      }
    },
    {
      "cell_type": "markdown",
      "source": [
        "![WhatsApp Image 2024-12-22 at 13.47.24.jpeg](data:image/jpeg;base64,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)"
      ],
      "metadata": {
        "id": "_rtiqFijfEKe"
      }
    },
    {
      "cell_type": "markdown",
      "source": [
        "# **Practical** **Questions**"
      ],
      "metadata": {
        "id": "unG-hnOOCr1x"
      }
    },
    {
      "cell_type": "code",
      "source": [
        "# 1 Write a Python function that takes a list of numbers as input and returns the sum of all even numbers in the list.\n",
        "def even_sum(numbers):\n",
        "  sum = 0\n",
        "  for n in numbers:\n",
        "     if i % 2 == 0:\n",
        "      sum += num\n",
        "  return sum\n",
        "even_sum(numbers=[1,2,3,4,5,6])\n",
        "\n"
      ],
      "metadata": {
        "id": "2hgZMRz5DKY6",
        "colab": {
          "base_uri": "https://localhost:8080/"
        },
        "outputId": "cee5360e-e0d4-4cf5-a05d-9f48d849ec19"
      },
      "execution_count": null,
      "outputs": [
        {
          "output_type": "execute_result",
          "data": {
            "text/plain": [
              "12"
            ]
          },
          "metadata": {},
          "execution_count": 2
        }
      ]
    },
    {
      "cell_type": "code",
      "source": [
        "# 2 Create a Python function that accepts a string and returns the reverse of that string.\n",
        "def my_function (x):\n",
        "  return x[::-1]\n",
        "mytext = my_function(\"I wonder how this text looks like backwards\")\n",
        "print (mytext)"
      ],
      "metadata": {
        "id": "1uWkdMS3DKkH",
        "colab": {
          "base_uri": "https://localhost:8080/"
        },
        "outputId": "37e54303-0a6f-409e-878f-bd6aa160b6db"
      },
      "execution_count": null,
      "outputs": [
        {
          "output_type": "stream",
          "name": "stdout",
          "text": [
            "sdrawkcab ekil skool txet siht woh rednow I\n"
          ]
        }
      ]
    },
    {
      "cell_type": "code",
      "source": [
        "# 3 Implement a Python function that takes a list of integers and returns a new list containing the squares of each number.\n",
        "\n",
        "def square (x):\n",
        "  return x**2\n",
        "x = [1,2,3,4,5]\n",
        "list(map(square,x))\n"
      ],
      "metadata": {
        "id": "rrkE8L5ODKp5",
        "colab": {
          "base_uri": "https://localhost:8080/"
        },
        "outputId": "27e0f006-1fde-471f-a2d8-382043c2947f"
      },
      "execution_count": null,
      "outputs": [
        {
          "output_type": "execute_result",
          "data": {
            "text/plain": [
              "[1, 4, 9, 16, 25]"
            ]
          },
          "metadata": {},
          "execution_count": 8
        }
      ]
    },
    {
      "cell_type": "code",
      "source": [
        "# 4 Write a Python function that checks if a given number is prime or not from 1 to 200.\n",
        "def is_prime(number):\n",
        "    if number < 2:\n",
        "        return False\n",
        "    for i in range(2, int(number**0.5) + 1):\n",
        "        if number % i == 0:\n",
        "            return False\n",
        "    return True\n",
        "\n",
        "for number in range(1, 201):\n",
        "    if is_prime(number):\n",
        "        print(number, \"is a prime number\")\n",
        "    else:\n",
        "        print(number, \"is not a prime number\")"
      ],
      "metadata": {
        "id": "l-DsQkFMDKtg",
        "colab": {
          "base_uri": "https://localhost:8080/"
        },
        "outputId": "b4adccdb-a53c-4787-f21e-685069bceaca"
      },
      "execution_count": null,
      "outputs": [
        {
          "output_type": "stream",
          "name": "stdout",
          "text": [
            "1 is not a prime number\n",
            "2 is a prime number\n",
            "3 is a prime number\n",
            "4 is not a prime number\n",
            "5 is a prime number\n",
            "6 is not a prime number\n",
            "7 is a prime number\n",
            "8 is not a prime number\n",
            "9 is not a prime number\n",
            "10 is not a prime number\n",
            "11 is a prime number\n",
            "12 is not a prime number\n",
            "13 is a prime number\n",
            "14 is not a prime number\n",
            "15 is not a prime number\n",
            "16 is not a prime number\n",
            "17 is a prime number\n",
            "18 is not a prime number\n",
            "19 is a prime number\n",
            "20 is not a prime number\n",
            "21 is not a prime number\n",
            "22 is not a prime number\n",
            "23 is a prime number\n",
            "24 is not a prime number\n",
            "25 is not a prime number\n",
            "26 is not a prime number\n",
            "27 is not a prime number\n",
            "28 is not a prime number\n",
            "29 is a prime number\n",
            "30 is not a prime number\n",
            "31 is a prime number\n",
            "32 is not a prime number\n",
            "33 is not a prime number\n",
            "34 is not a prime number\n",
            "35 is not a prime number\n",
            "36 is not a prime number\n",
            "37 is a prime number\n",
            "38 is not a prime number\n",
            "39 is not a prime number\n",
            "40 is not a prime number\n",
            "41 is a prime number\n",
            "42 is not a prime number\n",
            "43 is a prime number\n",
            "44 is not a prime number\n",
            "45 is not a prime number\n",
            "46 is not a prime number\n",
            "47 is a prime number\n",
            "48 is not a prime number\n",
            "49 is not a prime number\n",
            "50 is not a prime number\n",
            "51 is not a prime number\n",
            "52 is not a prime number\n",
            "53 is a prime number\n",
            "54 is not a prime number\n",
            "55 is not a prime number\n",
            "56 is not a prime number\n",
            "57 is not a prime number\n",
            "58 is not a prime number\n",
            "59 is a prime number\n",
            "60 is not a prime number\n",
            "61 is a prime number\n",
            "62 is not a prime number\n",
            "63 is not a prime number\n",
            "64 is not a prime number\n",
            "65 is not a prime number\n",
            "66 is not a prime number\n",
            "67 is a prime number\n",
            "68 is not a prime number\n",
            "69 is not a prime number\n",
            "70 is not a prime number\n",
            "71 is a prime number\n",
            "72 is not a prime number\n",
            "73 is a prime number\n",
            "74 is not a prime number\n",
            "75 is not a prime number\n",
            "76 is not a prime number\n",
            "77 is not a prime number\n",
            "78 is not a prime number\n",
            "79 is a prime number\n",
            "80 is not a prime number\n",
            "81 is not a prime number\n",
            "82 is not a prime number\n",
            "83 is a prime number\n",
            "84 is not a prime number\n",
            "85 is not a prime number\n",
            "86 is not a prime number\n",
            "87 is not a prime number\n",
            "88 is not a prime number\n",
            "89 is a prime number\n",
            "90 is not a prime number\n",
            "91 is not a prime number\n",
            "92 is not a prime number\n",
            "93 is not a prime number\n",
            "94 is not a prime number\n",
            "95 is not a prime number\n",
            "96 is not a prime number\n",
            "97 is a prime number\n",
            "98 is not a prime number\n",
            "99 is not a prime number\n",
            "100 is not a prime number\n",
            "101 is a prime number\n",
            "102 is not a prime number\n",
            "103 is a prime number\n",
            "104 is not a prime number\n",
            "105 is not a prime number\n",
            "106 is not a prime number\n",
            "107 is a prime number\n",
            "108 is not a prime number\n",
            "109 is a prime number\n",
            "110 is not a prime number\n",
            "111 is not a prime number\n",
            "112 is not a prime number\n",
            "113 is a prime number\n",
            "114 is not a prime number\n",
            "115 is not a prime number\n",
            "116 is not a prime number\n",
            "117 is not a prime number\n",
            "118 is not a prime number\n",
            "119 is not a prime number\n",
            "120 is not a prime number\n",
            "121 is not a prime number\n",
            "122 is not a prime number\n",
            "123 is not a prime number\n",
            "124 is not a prime number\n",
            "125 is not a prime number\n",
            "126 is not a prime number\n",
            "127 is a prime number\n",
            "128 is not a prime number\n",
            "129 is not a prime number\n",
            "130 is not a prime number\n",
            "131 is a prime number\n",
            "132 is not a prime number\n",
            "133 is not a prime number\n",
            "134 is not a prime number\n",
            "135 is not a prime number\n",
            "136 is not a prime number\n",
            "137 is a prime number\n",
            "138 is not a prime number\n",
            "139 is a prime number\n",
            "140 is not a prime number\n",
            "141 is not a prime number\n",
            "142 is not a prime number\n",
            "143 is not a prime number\n",
            "144 is not a prime number\n",
            "145 is not a prime number\n",
            "146 is not a prime number\n",
            "147 is not a prime number\n",
            "148 is not a prime number\n",
            "149 is a prime number\n",
            "150 is not a prime number\n",
            "151 is a prime number\n",
            "152 is not a prime number\n",
            "153 is not a prime number\n",
            "154 is not a prime number\n",
            "155 is not a prime number\n",
            "156 is not a prime number\n",
            "157 is a prime number\n",
            "158 is not a prime number\n",
            "159 is not a prime number\n",
            "160 is not a prime number\n",
            "161 is not a prime number\n",
            "162 is not a prime number\n",
            "163 is a prime number\n",
            "164 is not a prime number\n",
            "165 is not a prime number\n",
            "166 is not a prime number\n",
            "167 is a prime number\n",
            "168 is not a prime number\n",
            "169 is not a prime number\n",
            "170 is not a prime number\n",
            "171 is not a prime number\n",
            "172 is not a prime number\n",
            "173 is a prime number\n",
            "174 is not a prime number\n",
            "175 is not a prime number\n",
            "176 is not a prime number\n",
            "177 is not a prime number\n",
            "178 is not a prime number\n",
            "179 is a prime number\n",
            "180 is not a prime number\n",
            "181 is a prime number\n",
            "182 is not a prime number\n",
            "183 is not a prime number\n",
            "184 is not a prime number\n",
            "185 is not a prime number\n",
            "186 is not a prime number\n",
            "187 is not a prime number\n",
            "188 is not a prime number\n",
            "189 is not a prime number\n",
            "190 is not a prime number\n",
            "191 is a prime number\n",
            "192 is not a prime number\n",
            "193 is a prime number\n",
            "194 is not a prime number\n",
            "195 is not a prime number\n",
            "196 is not a prime number\n",
            "197 is a prime number\n",
            "198 is not a prime number\n",
            "199 is a prime number\n",
            "200 is not a prime number\n"
          ]
        }
      ]
    },
    {
      "cell_type": "code",
      "source": [
        "# 5 Create an iterator class in Python that generates the Fibonacci sequence up to a specified number of terms.\n",
        "class FibonacciIterator:\n",
        "    def __init__(self, n):\n",
        "        self.n = n\n",
        "        self.a, self.b = 0, 1\n",
        "        self.count = 0\n",
        "\n",
        "    def __iter__(self):\n",
        "        return self\n",
        "\n",
        "    def __next__(self):\n",
        "        if self.count < self.n:\n",
        "            result = self.a\n",
        "            self.a, self.b = self.b, self.a + self.b\n",
        "            self.count += 1\n",
        "            return result\n",
        "        else:\n",
        "            raise StopIteration\n",
        "\n",
        "fib_iter = FibonacciIterator(10)\n",
        "for num in fib_iter:\n",
        "  print(num)\n",
        "\n"
      ],
      "metadata": {
        "id": "LJ5pUQJoDKwY",
        "colab": {
          "base_uri": "https://localhost:8080/"
        },
        "outputId": "7d515f0a-42ba-4f49-e3e8-cb08efee070b"
      },
      "execution_count": null,
      "outputs": [
        {
          "output_type": "stream",
          "name": "stdout",
          "text": [
            "0\n",
            "1\n",
            "1\n",
            "2\n",
            "3\n",
            "5\n",
            "8\n",
            "13\n",
            "21\n",
            "34\n"
          ]
        }
      ]
    },
    {
      "cell_type": "code",
      "source": [
        "# 6 Write a generator function in Python that yields the powers of 2 up to a given exponent.\n",
        "def power_of_two(n):\n",
        "    for i in range(n + 1):\n",
        "        yield 2 ** i\n",
        "\n",
        "for power in power_of_two(5):\n",
        "    print(power)\n"
      ],
      "metadata": {
        "id": "_ZVfrtyLDKzQ",
        "colab": {
          "base_uri": "https://localhost:8080/"
        },
        "outputId": "719b0026-827d-4199-bd61-0c965e62a884"
      },
      "execution_count": null,
      "outputs": [
        {
          "output_type": "stream",
          "name": "stdout",
          "text": [
            "1\n",
            "2\n",
            "4\n",
            "8\n",
            "16\n",
            "32\n"
          ]
        }
      ]
    },
    {
      "cell_type": "code",
      "source": [
        "# 7 Implement a generator function that reads a file line by line and yields each line as a string.\n",
        "def read_file_by_line(filepath):\n",
        "     \"\"\"\n",
        "     Reads a file line by line and yields each line.\n",
        "\n",
        "     Args:\n",
        "         filepath (str): The path to the file.\n",
        "     yields:\n",
        "         str: Each line of the file.\n",
        "     \"\"\"\n",
        "     try:\n",
        "         with open(filepath, 'r') as file:\n",
        "             for line in file:\n",
        "                 yield line\n",
        "     except FileNotFoundError:\n",
        "         yield(f\"File not found: {filepath}\")\n",
        "     except Exception as e:\n",
        "         yield(f\"An error occurred: {e}\")\n",
        "\n",
        "# Example usage:\n",
        "if __name__ == \"__main__\":\n",
        "  with open (\"example.txt\", \"w\") as f :\n",
        "    f.write(\"This is line 1.\\n\")\n",
        "    f.write(\"This is line 2.\\n\")\n",
        "    f.write(\"This is line 3.\\n\")\n",
        "  for line in read_file_by_line(\"example.txt\"):\n",
        "        print(line, end=\"\")\n",
        "\n",
        "\n"
      ],
      "metadata": {
        "id": "uEVIjWnYDK7k",
        "colab": {
          "base_uri": "https://localhost:8080/"
        },
        "outputId": "24100886-fb8a-4ad2-d1d9-22b6e12e04b3"
      },
      "execution_count": null,
      "outputs": [
        {
          "output_type": "stream",
          "name": "stdout",
          "text": [
            "This is line 1.\n",
            "This is line 2.\n",
            "This is line 3.\n"
          ]
        }
      ]
    },
    {
      "cell_type": "code",
      "source": [
        "# 8 Use a lambda function in Python to sort a list of tuples based on the second element of each tuple.\n",
        "test_list = [('a', 2 ), ('c', 3),('d',4)]\n",
        "sort_order = [4,2,3]\n",
        "print (\"The original list is : \" + str(test_list))\n",
        "print (\"The sort order is : \" + str(sort_order))\n",
        "res = list (sorted (test_list ,\n",
        "                    key= lambda i : sort_order.index(i[1])))\n",
        "print (\"The  list after appropriate sorting : \" + str(res))\n",
        "\n",
        "\n",
        "\n"
      ],
      "metadata": {
        "id": "zXK8xwPeDK_e",
        "colab": {
          "base_uri": "https://localhost:8080/"
        },
        "outputId": "81d98269-6317-4e43-fd1a-bba478b4a382"
      },
      "execution_count": null,
      "outputs": [
        {
          "output_type": "stream",
          "name": "stdout",
          "text": [
            "The original list is : [('a', 2), ('c', 3), ('d', 4)]\n",
            "The sort order is : [4, 2, 3]\n",
            "The  list after appropriate sorting : [('d', 4), ('a', 2), ('c', 3)]\n"
          ]
        }
      ]
    },
    {
      "cell_type": "code",
      "source": [
        "# 9 Write a Python program that uses map () to convert a list of tempratures from celcius to Fahrenheit.\n",
        "def celsius_to_fahrenheit(celsius):\n",
        "   \"\"\"\n",
        "  Converts a temprature from Celcius to Fahrenheit.\n",
        "   \"\"\"\n",
        "   return (celsius * 9/5) + 32\n",
        "\n",
        "temperatures_celsius = [0, 10, 20, 30, 40]\n",
        "temperatures_fahrenheit = list(map(celsius_to_fahrenheit, temperatures_celsius))\n",
        "print(temperatures_fahrenheit)\n"
      ],
      "metadata": {
        "id": "cI8u5DDaDLDI",
        "colab": {
          "base_uri": "https://localhost:8080/"
        },
        "outputId": "eda9f2e0-2e15-4f85-9b75-2628cfc7d626"
      },
      "execution_count": null,
      "outputs": [
        {
          "output_type": "stream",
          "name": "stdout",
          "text": [
            "[32.0, 50.0, 68.0, 86.0, 104.0]\n"
          ]
        }
      ]
    },
    {
      "cell_type": "code",
      "source": [
        "# 10 Create a Python program that uses filter() to remove all the vowels from a given string.\n",
        "def remove_vowels(string):\n",
        "    vowels = \"aeiouAEIOU\"\n",
        "    return \"\".join(filter(lambda x: x not in vowels, string))\n",
        "string = \"Hello, World!\"\n",
        "result = remove_vowels(string)\n",
        "print(result)\n"
      ],
      "metadata": {
        "id": "7zwqq7HqDLH1",
        "colab": {
          "base_uri": "https://localhost:8080/"
        },
        "outputId": "7f2cfd12-81ff-42ec-9ab5-cc8608f90f30"
      },
      "execution_count": null,
      "outputs": [
        {
          "output_type": "stream",
          "name": "stdout",
          "text": [
            "Hll, Wrld!\n"
          ]
        }
      ]
    },
    {
      "cell_type": "code",
      "source": [
        "# 11 Imagine an accounting routine used in a book shop. It works on a list with sublists, which look like this:\n",
        "#Ordernumber  Book title and Author          Quantity  Price per Item\n",
        "# 34587        Learning Python, Mark Lutz          4            40.95\n",
        "# 98762        Programming Python, Mark Lutz       5            56.80\n",
        "# 77226        Head First Python, Paul Barry       3            32.95\n",
        "# 88112        Einführung in Python3, Bernd Klein  3            24.99\n",
        "\n",
        "#Write a Python program, which returns a list with 2-tuples. Each tuple consists of the order number and the product of the price per item and the quantity.\n",
        "#The product should be increased by 10,- if the value $ if the value of the order is smaller than 100,00$.\n",
        "#Write a Python program using lambda and map.\n",
        "\n",
        "#without using lambda , map , list comprehension\n",
        "\n",
        "order = [[34587, \"Learning Python, Mark Lutz\", 4, 40.95], [98762, \"Programming Python, Mark Lutz\", 5, 56.80], [77226, \"Head First Python, Paul Barry\", 3, 32.95], [88112, \"Einführung in Python3, Bernd Klein\", 3, 24.99]]\n",
        "\n",
        "lists =[]\n",
        "for item in order :\n",
        "  if item [-1]* item [-2] < 100 :\n",
        "    lists.append((item[0], item[-1]*item[-2]+10))\n",
        "  else :\n",
        "    lists.append((item[0] , item[-1] * item[-2]))\n",
        "print(\"Order summary: \", lists)\n",
        "\n",
        "\n",
        "\n",
        "\n",
        "#with using lambda and map\n",
        "print (\"Order Summary:\",list (map(lambda x : (x[0],x[-1]*x[-2] + 10) if x[-1]*x[-2]< 100 else (x[0],x[-1]*x[-2]) , order)))\n",
        "\n",
        "#with using list comprehension\n",
        "print (\"Order Summary:\" ,[(item[0], item[-1]*item[-2]+10) if item[-1]*item[-2] < 100 else (item[0],item[-1]*item[-2]) for item in order])\n",
        "\n",
        "\n"
      ],
      "metadata": {
        "id": "i_HSW6-oDLMR",
        "colab": {
          "base_uri": "https://localhost:8080/"
        },
        "outputId": "04990a99-2589-415f-f5f4-cac9f64d9dfb"
      },
      "execution_count": null,
      "outputs": [
        {
          "output_type": "stream",
          "name": "stdout",
          "text": [
            "Order summary:  [(34587, 163.8), (98762, 284.0), (77226, 108.85000000000001), (88112, 84.97)]\n",
            "Order Summary: [(34587, 163.8), (98762, 284.0), (77226, 108.85000000000001), (88112, 84.97)]\n",
            "Order Summary: [(34587, 163.8), (98762, 284.0), (77226, 108.85000000000001), (88112, 84.97)]\n"
          ]
        }
      ]
    }
  ]
}